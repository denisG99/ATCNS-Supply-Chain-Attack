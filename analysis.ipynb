{
 "cells": [
  {
   "metadata": {},
   "cell_type": "markdown",
   "source": "The scope of this analysis is to get some information about what happens in the wild when we talk about in the scope in python. Mainly, we focus on local import and function definition in local scopes.",
   "id": "e379ea8fc32fc4b8"
  },
  {
   "metadata": {
    "ExecuteTime": {
     "end_time": "2025-08-27T08:02:11.878746Z",
     "start_time": "2025-08-27T08:02:11.876223Z"
    }
   },
   "cell_type": "code",
   "source": "import json",
   "id": "1af13551056b8a4d",
   "outputs": [],
   "execution_count": 1
  },
  {
   "cell_type": "code",
   "id": "initial_id",
   "metadata": {
    "collapsed": true,
    "ExecuteTime": {
     "end_time": "2025-08-27T08:02:11.903574Z",
     "start_time": "2025-08-27T08:02:11.888536Z"
    }
   },
   "source": [
    "# loading data\n",
    "data_path = \"./src/statistics.json\"\n",
    "\n",
    "data = json.load(open(data_path, 'r'))"
   ],
   "outputs": [],
   "execution_count": 2
  },
  {
   "metadata": {
    "ExecuteTime": {
     "end_time": "2025-08-27T08:02:17.473850Z",
     "start_time": "2025-08-27T08:02:17.471237Z"
    }
   },
   "cell_type": "code",
   "source": [
    "def local_frequency(data: dict, field: str) -> int:\n",
    "    counter = 0\n",
    "\n",
    "    for key in data.keys():\n",
    "        if len(data[key][field]) > 0:\n",
    "            counter += 1\n",
    "\n",
    "    return counter"
   ],
   "id": "fd02cfec0549c05f",
   "outputs": [],
   "execution_count": 3
  },
  {
   "metadata": {},
   "cell_type": "markdown",
   "source": [
    "# Import analysis\n",
    "\n",
    "In this section we want to analysis how many times there are local imports inside a local scope. What we want to find is:\n",
    "* how many times there are local imports inside a local scope"
   ],
   "id": "dc0c6657f7984d05"
  },
  {
   "metadata": {
    "ExecuteTime": {
     "end_time": "2025-08-27T08:02:19.780050Z",
     "start_time": "2025-08-27T08:02:19.776750Z"
    }
   },
   "cell_type": "code",
   "source": [
    "pkgs_w_local_imports = local_frequency(data, \"local_import\") # count the number of packages with local imports\n",
    "\n",
    "print(f\"There are {pkgs_w_local_imports} packages with local imports over the total of {len(data.keys())} packages({pkgs_w_local_imports/len(data.keys())*100:.2f}%).\")"
   ],
   "id": "70c4f22aa22b0739",
   "outputs": [
    {
     "name": "stdout",
     "output_type": "stream",
     "text": [
      "There are 1314 packages with local imports over the total of 10000 packages(13.14%).\n"
     ]
    }
   ],
   "execution_count": 4
  },
  {
   "metadata": {},
   "cell_type": "markdown",
   "source": [
    "# Inner function analysis\n",
    "\n",
    "We propose the same analysis that we done for the imports, but this time we want to find the number of times there are local functions defined inside a local scope."
   ],
   "id": "7f8dd10daa81f8af"
  },
  {
   "metadata": {
    "ExecuteTime": {
     "end_time": "2025-08-27T08:02:47.279221Z",
     "start_time": "2025-08-27T08:02:47.273711Z"
    }
   },
   "cell_type": "code",
   "source": [
    "pkgs_w_local_functions = local_frequency(data, \"inner_function\") # count the number of packages with local functions\n",
    "\n",
    "print(f\"There are {pkgs_w_local_functions} packages with local imports over the total of {len(data.keys())} packages({pkgs_w_local_functions/len(data.keys())*100:.2f}%).\")"
   ],
   "id": "99999f93bbf7da05",
   "outputs": [
    {
     "name": "stdout",
     "output_type": "stream",
     "text": [
      "There are 1512 packages with local imports over the total of 10000 packages(15.12%).\n"
     ]
    }
   ],
   "execution_count": 5
  },
  {
   "metadata": {},
   "cell_type": "markdown",
   "source": [
    "# Scope chain mean length\n",
    "\n",
    "Now we want to investigate which is the average length of the scope chain over the most popular packages"
   ],
   "id": "e6600989edfa6144"
  },
  {
   "metadata": {
    "ExecuteTime": {
     "end_time": "2025-08-27T08:02:52.378139Z",
     "start_time": "2025-08-27T08:02:52.371765Z"
    }
   },
   "cell_type": "code",
   "source": [
    "mean = 0\n",
    "\n",
    "for key in data.keys():\n",
    "    mean += data[key][\"scope_chain_length\"]\n",
    "\n",
    "mean /= len(data.keys())\n",
    "\n",
    "print(f\"Mean chain length: {mean}\")"
   ],
   "id": "f5fa86ea9454863",
   "outputs": [
    {
     "name": "stdout",
     "output_type": "stream",
     "text": [
      "Mean chain length: 2.7991\n"
     ]
    }
   ],
   "execution_count": 6
  },
  {
   "metadata": {},
   "cell_type": "markdown",
   "source": [
    "# Conclusions\n",
    "\n",
    "In general, the practice of defining local imports and functions respectively in the 13.14% and 15.12% of the packages taken into analysis. Generally the average length of the scope chain is 2.8"
   ],
   "id": "1ad21c75df63ff36"
  }
 ],
 "metadata": {
  "kernelspec": {
   "display_name": "Python 3",
   "language": "python",
   "name": "python3"
  },
  "language_info": {
   "codemirror_mode": {
    "name": "ipython",
    "version": 2
   },
   "file_extension": ".py",
   "mimetype": "text/x-python",
   "name": "python",
   "nbconvert_exporter": "python",
   "pygments_lexer": "ipython2",
   "version": "2.7.6"
  }
 },
 "nbformat": 4,
 "nbformat_minor": 5
}
